{
 "cells": [
  {
   "cell_type": "code",
   "execution_count": 1,
   "id": "59dedfdd",
   "metadata": {},
   "outputs": [],
   "source": [
    "import numpy as np\n",
    "import pandas as pd\n",
    "import difflib\n",
    "from sklearn.feature_extraction.text import TfidfVectorizer\n",
    "from sklearn.metrics.pairwise import cosine_similarity"
   ]
  },
  {
   "cell_type": "code",
   "execution_count": 2,
   "id": "6a535a1e",
   "metadata": {},
   "outputs": [],
   "source": [
    "movies_data = pd.read_csv('movies.csv')"
   ]
  },
  {
   "cell_type": "code",
   "execution_count": 3,
   "id": "3b20140f",
   "metadata": {},
   "outputs": [],
   "source": [
    "selected_features = movies_data[['genres','keywords','tagline','overview','cast','director','title','id']]"
   ]
  },
  {
   "cell_type": "code",
   "execution_count": 4,
   "id": "f836a0ee",
   "metadata": {},
   "outputs": [],
   "source": [
    "for feature in selected_features:\n",
    "  movies_data[feature] = movies_data[feature].fillna('')"
   ]
  },
  {
   "cell_type": "code",
   "execution_count": 5,
   "id": "a89c1ba0",
   "metadata": {},
   "outputs": [],
   "source": [
    "combined_features = movies_data['overview'] + movies_data['genres'] + movies_data['keywords'] + movies_data['tagline'] + movies_data['cast'] + movies_data['director']"
   ]
  },
  {
   "cell_type": "code",
   "execution_count": 6,
   "id": "5855b9ba",
   "metadata": {},
   "outputs": [],
   "source": [
    "from sklearn.feature_extraction.text import CountVectorizer\n",
    "cv = CountVectorizer(max_features=5000,stop_words='english')"
   ]
  },
  {
   "cell_type": "code",
   "execution_count": 7,
   "id": "2d30463c",
   "metadata": {},
   "outputs": [],
   "source": [
    "vector = cv.fit_transform(combined_features).toarray()"
   ]
  },
  {
   "cell_type": "code",
   "execution_count": 8,
   "id": "ae27311e",
   "metadata": {},
   "outputs": [],
   "source": [
    "similarity = cosine_similarity(vector)"
   ]
  },
  {
   "cell_type": "code",
   "execution_count": 9,
   "id": "941de438",
   "metadata": {},
   "outputs": [],
   "source": [
    "def recommend(movie):\n",
    "    index = selected_features[selected_features['title'] == movie].index[0]\n",
    "    distances = sorted(list(enumerate(similarity[index])),reverse=True,key = lambda x: x[1])\n",
    "    for i in distances[1:10]:\n",
    "        print(selected_features.iloc[i[0]].title)"
   ]
  },
  {
   "cell_type": "code",
   "execution_count": 10,
   "id": "ef185294",
   "metadata": {
    "scrolled": true
   },
   "outputs": [
    {
     "name": "stdout",
     "output_type": "stream",
     "text": [
      "Batman Begins\n",
      "The Dark Knight Rises\n",
      "Batman & Robin\n",
      "Batman Returns\n",
      "The Dark Knight\n",
      "Mi America\n",
      "Batman Forever\n",
      "Halloween 4: The Return of Michael Myers\n",
      "Underworld\n"
     ]
    }
   ],
   "source": [
    "recommend('Batman')"
   ]
  },
  {
   "cell_type": "code",
   "execution_count": 11,
   "id": "e8955fb0",
   "metadata": {},
   "outputs": [],
   "source": [
    "import pickle"
   ]
  },
  {
   "cell_type": "code",
   "execution_count": 15,
   "id": "5e4d1dc9",
   "metadata": {},
   "outputs": [],
   "source": [
    "pickle.dump(selected_features.to_dict(),open('movies.pkl','wb'))"
   ]
  },
  {
   "cell_type": "code",
   "execution_count": 16,
   "id": "ddcc41b1",
   "metadata": {},
   "outputs": [],
   "source": [
    "pickle.dump(similarity,open('similarity.pkl' , 'wb'))"
   ]
  }
 ],
 "metadata": {
  "kernelspec": {
   "display_name": "Python 3 (ipykernel)",
   "language": "python",
   "name": "python3"
  },
  "language_info": {
   "codemirror_mode": {
    "name": "ipython",
    "version": 3
   },
   "file_extension": ".py",
   "mimetype": "text/x-python",
   "name": "python",
   "nbconvert_exporter": "python",
   "pygments_lexer": "ipython3",
   "version": "3.10.6"
  }
 },
 "nbformat": 4,
 "nbformat_minor": 5
}
